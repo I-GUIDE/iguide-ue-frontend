{
 "cells": [
  {
   "cell_type": "markdown",
   "id": "b85aafb4-ead2-4a55-a537-d85d6a6a2801",
   "metadata": {},
   "source": [
    "# Notebook with Data\n",
    "\n",
    "\n",
    "## Data-centric GIS Education and Training with Jupyter notebooks on I-GUIDE Platform"
   ]
  },
  {
   "cell_type": "markdown",
   "id": "4a16fa3e-91c2-48e4-9b7c-088e9c61ed51",
   "metadata": {},
   "source": [
    "![dwn](./images/dwn.PNG)"
   ]
  },
  {
   "cell_type": "markdown",
   "id": "16a056c8-f7b0-4b3d-bdfb-50cf24bb1f64",
   "metadata": {
    "tags": []
   },
   "source": [
    "## Major Components"
   ]
  },
  {
   "cell_type": "markdown",
   "id": "78c65d56-00fa-4c17-8896-f348d47dbb78",
   "metadata": {},
   "source": [
    "### Outline\n",
    "- [Data](#data)\n",
    "- [Geospatial Middleware](#middleware)\n",
    "- [Data-centric GIS Education Notebooks](#notebook)"
   ]
  },
  {
   "cell_type": "markdown",
   "id": "4e1b891a-357e-4a78-8ed1-9f7e1d1d94af",
   "metadata": {
    "tags": []
   },
   "source": [
    "<a id='data'></a>\n",
    "\n",
    "### - Data"
   ]
  },
  {
   "cell_type": "markdown",
   "id": "1308e8e4-8ca1-413a-8b7d-2dd58b69d0f7",
   "metadata": {},
   "source": [
    "<b>Social Media Twitter Data</b> is the core dataset.\n",
    "\n",
    "The Twitter data can be access at ./data folder. It includes the a sample Twitter data collected using tweetpy on 2021.09.25 and 2021.09.26. The sample Twitter data is in json file format containing tweet post information including the time, location, content, users, number of likes, and etc. The sample data is of about 20GB and there are in total 20 files and nd each file contains 250,000 Tweet posts."
   ]
  },
  {
   "cell_type": "code",
   "execution_count": 2,
   "id": "e3b96229-2cce-4207-a8e2-6067e103e052",
   "metadata": {},
   "outputs": [
    {
     "name": "stdout",
     "output_type": "stream",
     "text": [
      "250000-tweets-2021-09-25_01-48-23.json\t250000-tweets-2021-09-26_01-46-49.json\n",
      "250000-tweets-2021-09-25_04-59-49.json\t250000-tweets-2021-09-26_04-56-08.json\n",
      "250000-tweets-2021-09-25_07-33-30.json\t250000-tweets-2021-09-26_07-36-30.json\n",
      "250000-tweets-2021-09-25_09-29-48.json\t250000-tweets-2021-09-26_09-39-36.json\n",
      "250000-tweets-2021-09-25_11-25-23.json\t250000-tweets-2021-09-26_11-29-11.json\n",
      "250000-tweets-2021-09-25_13-24-18.json\t250000-tweets-2021-09-26_13-18-44.json\n",
      "250000-tweets-2021-09-25_15-34-24.json\t250000-tweets-2021-09-26_15-10-52.json\n",
      "250000-tweets-2021-09-25_17-48-51.json\t250000-tweets-2021-09-26_17-16-06.json\n",
      "250000-tweets-2021-09-25_20-12-57.json\t250000-tweets-2021-09-26_19-43-23.json\n",
      "250000-tweets-2021-09-25_22-39-35.json\t250000-tweets-2021-09-26_22-13-26.json\n"
     ]
    }
   ],
   "source": [
    "## Show all the file in the data folder for Twitter data.\n",
    "!ls ./data"
   ]
  },
  {
   "cell_type": "markdown",
   "id": "573be49d-88b6-4dba-9684-e96341879a97",
   "metadata": {},
   "source": [
    "<b>Supplimenary Data</b> includes \n",
    "1. Census-tract level cartographic boundary files for the city of Chicago - ./Census_tract\n",
    "2. County level cartographic boundary files for the city of Chicago - ./geo\n",
    "2. Heat dictionary data - ./geo/data20000.txt"
   ]
  },
  {
   "cell_type": "markdown",
   "id": "47121317-321f-45e9-8b61-4e78ba9f318f",
   "metadata": {
    "tags": []
   },
   "source": [
    "<a id='middleware'></a>\n",
    "\n",
    "### - Geospatial Middleware"
   ]
  },
  {
   "cell_type": "markdown",
   "id": "a680e8fa-ac3e-48d4-a3d2-7b65429a8911",
   "metadata": {},
   "source": [
    "[<b>I-GUIDE Platform</b>](https://i-guide.io/platform/) is an integrative  community-oriented discovery environment that can support data-intensive, reproducible, and scalable geospatial analytics using Jupyter Notebook based on advanced cyberinfrastructure."
   ]
  },
  {
   "cell_type": "markdown",
   "id": "a5012d54-d877-4835-b9c9-edd48c91d9a5",
   "metadata": {},
   "source": [
    "[<b>Jupyter Notebook</b>](https://jupyter.org/) is an open-source web application that allows you to create and share documents containing live code, visualizations, and narrative text. It provides an interactive coding environment where you can write, run, and modify code in a browser-based interface. Notebooks are organized into cells, where you can enter code, execute it, and view the results immediately. This makes it an excellent tool for data analysis, scientific computing, machine learning, and educational purposes, enabling you to combine code, explanations, and visualizations in a single document. Jupyter Notebook supports multiple programming languages and integrates with a wide range of data analysis libraries and tools."
   ]
  },
  {
   "cell_type": "markdown",
   "id": "3bed072e-14fe-44e6-80e7-0aee0c692f06",
   "metadata": {},
   "source": [
    "<a id='notebook'></a>\n",
    "\n",
    "### - Data-centric GIS Education Notebooks"
   ]
  },
  {
   "cell_type": "markdown",
   "id": "5cad7eea-117c-45a0-b50a-bd42ac030c6a",
   "metadata": {},
   "source": [
    "<b>GIS Concept Notebooks</b>\n",
    "1. [Choropleth Maps](./Choropleth%20Maps.ipynb)\n",
    "2. Map Projections\n",
    "3. Scale & MAUP\n",
    "4. GIS Data types"
   ]
  },
  {
   "cell_type": "markdown",
   "id": "3dc63480-5366-4dc3-bbfb-c291d5a17f36",
   "metadata": {},
   "source": [
    "<b>GIS Research</b>\n",
    "1. How to collect Twitter data? - [Data Collection](./data%20collection.ipynb)\n",
    "2. How to process Twitter data? - \n",
    "3. How to visualize Twitter data? - \n",
    "4. How to map “heat” with Twitter? - \n",
    "5. How to map at larger scale? - [National-level Analysis](./National-level%20Analysis.ipynb)\n",
    "6. How to map at finer temporal scale? - [Hourly Analysis](./Hourly%20Analysis.ipynb)"
   ]
  }
 ],
 "metadata": {
  "kernelspec": {
   "display_name": "Python 3",
   "language": "python",
   "name": "python3"
  },
  "language_info": {
   "codemirror_mode": {
    "name": "ipython",
    "version": 3
   },
   "file_extension": ".py",
   "mimetype": "text/x-python",
   "name": "python",
   "nbconvert_exporter": "python",
   "pygments_lexer": "ipython3",
   "version": "3.8.12"
  }
 },
 "nbformat": 4,
 "nbformat_minor": 5
}
